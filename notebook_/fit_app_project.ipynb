{
 "cells": [
  {
   "cell_type": "markdown",
   "id": "cb33f254",
   "metadata": {},
   "source": [
    "<div style=\"border-top: 3px solid #2E8B57; border-bottom: 3px solid #2E8B57; padding: 10px 0;\">\n",
    "  <h2 style=\"text-align: center; color: #2E8B57; margin: 0;\">\n",
    "    Fit app project\n",
    "  </h2>\n",
    "</div>\n",
    "\n",
    "<div style=\"text-align: center;\">\n",
    "  <img src=\"https://raw.githubusercontent.com/Alop89/fit_app_data_analysis/main/images_/pexels-victorfreitas-841130.jpg\" alt=\"Persona levantando pesas\" width=\"700\"/>\n",
    "</div>\n",
    "\n",
    "\n"
   ]
  },
  {
   "cell_type": "markdown",
   "id": "33536839",
   "metadata": {},
   "source": [
    "##  Busines task:\n",
    "\n",
    "This project's objective is to analyze data from a single health monitoring device to learn more about how users are utilizing it. The findings will inform marketing plans for the company's expansion and improved customer service. Data and graphs that assist stakeholders in understanding consumer behavior, key trends, two marketing strategies, and two actions each will be included in the final report. "
   ]
  },
  {
   "cell_type": "markdown",
   "id": "5d6bff4b",
   "metadata": {},
   "source": [
    "## Questions\n",
    "\n",
    "These three questions will guide all the processes of the data analysis:\n",
    "1. What are some __trends in smart device usage__?\n",
    "2. How could these __trends apply to customers__?\n",
    "3. How could these __trends help influence marketing strategy__?"
   ]
  },
  {
   "cell_type": "markdown",
   "id": "318b276d",
   "metadata": {},
   "source": [
    "## Deliverables\n",
    "\n",
    " These five deliverables will be generated:\n",
    " \n",
    " 1. A description of all data sources used.\n",
    " 2. Documentation of any cleaning or manipulation of data.\n",
    " 3. A summary of the analysis.\n",
    " 4. Supporting visualizations and key findings.\n",
    " 5. Top high-level content recommendations based on your analysis. "
   ]
  },
  {
   "cell_type": "markdown",
   "id": "ec716763",
   "metadata": {},
   "source": [
    "## Description of all data sources used\n",
    "\n",
    "The information about the data set used in this project, is available in the following address: https://www.kaggle.com/datasets/arashnic/fitbit\n",
    "\n",
    "Summary of the data:\n",
    "* __Description__: This dataset was produced between December 3, 2016, and December 5, 2016, by participants in a dispersed survey conducted by Amazon Mechanical Turk. The submission of personal tracker data, including minute-level output for physical activity, heart rate, and sleep tracking, was approved by thirty qualified Fitbit users.\n",
    "* __Licence__: CC0: Public Domain\n",
    "* **Last update**: Annually (Updated a year ago)"
   ]
  },
  {
   "cell_type": "markdown",
   "id": "1a6ada68",
   "metadata": {},
   "source": [
    "## Documentation of any cleaning or manipulation of the data\n",
    "\n",
    "Every step of the data analysis process will include documentation of data tampering. "
   ]
  },
  {
   "cell_type": "markdown",
   "id": "22acd31a",
   "metadata": {},
   "source": [
    "## Data analysis process"
   ]
  },
  {
   "cell_type": "markdown",
   "id": "270a3279",
   "metadata": {},
   "source": [
    "### Libraries import"
   ]
  },
  {
   "cell_type": "code",
   "execution_count": 1,
   "id": "60a4242e",
   "metadata": {},
   "outputs": [],
   "source": [
    "# libraries import \n",
    "import pandas as pd \n",
    "import numpy as np\n",
    "import matplotlib.pyplot as plt\n",
    "import seaborn as sns"
   ]
  },
  {
   "cell_type": "markdown",
   "id": "74b43541",
   "metadata": {},
   "source": [
    "### Data loading"
   ]
  },
  {
   "cell_type": "code",
   "execution_count": 2,
   "id": "a7ccb60f",
   "metadata": {},
   "outputs": [],
   "source": [
    "# data loading \n",
    "\n",
    "activity = pd.read_csv('https://raw.githubusercontent.com/Alop89/fit_app_data_analysis/refs/heads/main/data_/dailyActivity_merged.csv')\n",
    "sleep = pd.read_csv('https://raw.githubusercontent.com/Alop89/fit_app_data_analysis/refs/heads/main/data_/minuteSleep_merged.csv')\n",
    "weight_loss = pd.read_csv('https://raw.githubusercontent.com/Alop89/fit_app_data_analysis/refs/heads/main/data_/weightLogInfo_merged.csv')"
   ]
  },
  {
   "cell_type": "markdown",
   "id": "dbe22984",
   "metadata": {},
   "source": [
    "**Data description**\n",
    "\n",
    "| data | description |\n",
    "|------|-------------|\n",
    "| activity | contains all the data related to the activity of the customers, including info about steps, distance, activity classification, sedentary time, and calories expense |\n",
    "| sleep | contains all the data related to sleep date and time |\n",
    "| weight_loss | contains all the data related to date and time of the weight measures of customers |"
   ]
  },
  {
   "cell_type": "markdown",
   "id": "bc8d67fb",
   "metadata": {},
   "source": [
    "### Data exploration"
   ]
  },
  {
   "cell_type": "markdown",
   "id": "a4c6ad86",
   "metadata": {},
   "source": [
    "#### Activity "
   ]
  },
  {
   "cell_type": "code",
   "execution_count": 3,
   "id": "356cf3ea",
   "metadata": {},
   "outputs": [
    {
     "data": {
      "application/vnd.microsoft.datawrangler.viewer.v0+json": {
       "columns": [
        {
         "name": "index",
         "rawType": "int64",
         "type": "integer"
        },
        {
         "name": "Id",
         "rawType": "int64",
         "type": "integer"
        },
        {
         "name": "ActivityDate",
         "rawType": "object",
         "type": "string"
        },
        {
         "name": "TotalSteps",
         "rawType": "int64",
         "type": "integer"
        },
        {
         "name": "TotalDistance",
         "rawType": "float64",
         "type": "float"
        },
        {
         "name": "TrackerDistance",
         "rawType": "float64",
         "type": "float"
        },
        {
         "name": "LoggedActivitiesDistance",
         "rawType": "float64",
         "type": "float"
        },
        {
         "name": "VeryActiveDistance",
         "rawType": "float64",
         "type": "float"
        },
        {
         "name": "ModeratelyActiveDistance",
         "rawType": "float64",
         "type": "float"
        },
        {
         "name": "LightActiveDistance",
         "rawType": "float64",
         "type": "float"
        },
        {
         "name": "SedentaryActiveDistance",
         "rawType": "float64",
         "type": "float"
        },
        {
         "name": "VeryActiveMinutes",
         "rawType": "int64",
         "type": "integer"
        },
        {
         "name": "FairlyActiveMinutes",
         "rawType": "int64",
         "type": "integer"
        },
        {
         "name": "LightlyActiveMinutes",
         "rawType": "int64",
         "type": "integer"
        },
        {
         "name": "SedentaryMinutes",
         "rawType": "int64",
         "type": "integer"
        },
        {
         "name": "Calories",
         "rawType": "int64",
         "type": "integer"
        }
       ],
       "ref": "f4e76f35-bc45-41e7-b567-5e2daddad386",
       "rows": [
        [
         "0",
         "1503960366",
         "3/25/2016",
         "11004",
         "7.1100001335144",
         "7.1100001335144",
         "0.0",
         "2.5699999332428",
         "0.46000000834465",
         "4.07000017166138",
         "0.0",
         "33",
         "12",
         "205",
         "804",
         "1819"
        ],
        [
         "1",
         "1503960366",
         "3/26/2016",
         "17609",
         "11.5500001907349",
         "11.5500001907349",
         "0.0",
         "6.92000007629395",
         "0.730000019073486",
         "3.91000008583069",
         "0.0",
         "89",
         "17",
         "274",
         "588",
         "2154"
        ],
        [
         "2",
         "1503960366",
         "3/27/2016",
         "12736",
         "8.52999973297119",
         "8.52999973297119",
         "0.0",
         "4.65999984741211",
         "0.159999996423721",
         "3.71000003814697",
         "0.0",
         "56",
         "5",
         "268",
         "605",
         "1944"
        ],
        [
         "3",
         "1503960366",
         "3/28/2016",
         "13231",
         "8.93000030517578",
         "8.93000030517578",
         "0.0",
         "3.19000005722046",
         "0.790000021457672",
         "4.94999980926514",
         "0.0",
         "39",
         "20",
         "224",
         "1080",
         "1932"
        ],
        [
         "4",
         "1503960366",
         "3/29/2016",
         "12041",
         "7.84999990463257",
         "7.84999990463257",
         "0.0",
         "2.16000008583069",
         "1.0900000333786",
         "4.6100001335144",
         "0.0",
         "28",
         "28",
         "243",
         "763",
         "1886"
        ]
       ],
       "shape": {
        "columns": 15,
        "rows": 5
       }
      },
      "text/html": [
       "<div>\n",
       "<style scoped>\n",
       "    .dataframe tbody tr th:only-of-type {\n",
       "        vertical-align: middle;\n",
       "    }\n",
       "\n",
       "    .dataframe tbody tr th {\n",
       "        vertical-align: top;\n",
       "    }\n",
       "\n",
       "    .dataframe thead th {\n",
       "        text-align: right;\n",
       "    }\n",
       "</style>\n",
       "<table border=\"1\" class=\"dataframe\">\n",
       "  <thead>\n",
       "    <tr style=\"text-align: right;\">\n",
       "      <th></th>\n",
       "      <th>Id</th>\n",
       "      <th>ActivityDate</th>\n",
       "      <th>TotalSteps</th>\n",
       "      <th>TotalDistance</th>\n",
       "      <th>TrackerDistance</th>\n",
       "      <th>LoggedActivitiesDistance</th>\n",
       "      <th>VeryActiveDistance</th>\n",
       "      <th>ModeratelyActiveDistance</th>\n",
       "      <th>LightActiveDistance</th>\n",
       "      <th>SedentaryActiveDistance</th>\n",
       "      <th>VeryActiveMinutes</th>\n",
       "      <th>FairlyActiveMinutes</th>\n",
       "      <th>LightlyActiveMinutes</th>\n",
       "      <th>SedentaryMinutes</th>\n",
       "      <th>Calories</th>\n",
       "    </tr>\n",
       "  </thead>\n",
       "  <tbody>\n",
       "    <tr>\n",
       "      <th>0</th>\n",
       "      <td>1503960366</td>\n",
       "      <td>3/25/2016</td>\n",
       "      <td>11004</td>\n",
       "      <td>7.11</td>\n",
       "      <td>7.11</td>\n",
       "      <td>0.0</td>\n",
       "      <td>2.57</td>\n",
       "      <td>0.46</td>\n",
       "      <td>4.07</td>\n",
       "      <td>0.0</td>\n",
       "      <td>33</td>\n",
       "      <td>12</td>\n",
       "      <td>205</td>\n",
       "      <td>804</td>\n",
       "      <td>1819</td>\n",
       "    </tr>\n",
       "    <tr>\n",
       "      <th>1</th>\n",
       "      <td>1503960366</td>\n",
       "      <td>3/26/2016</td>\n",
       "      <td>17609</td>\n",
       "      <td>11.55</td>\n",
       "      <td>11.55</td>\n",
       "      <td>0.0</td>\n",
       "      <td>6.92</td>\n",
       "      <td>0.73</td>\n",
       "      <td>3.91</td>\n",
       "      <td>0.0</td>\n",
       "      <td>89</td>\n",
       "      <td>17</td>\n",
       "      <td>274</td>\n",
       "      <td>588</td>\n",
       "      <td>2154</td>\n",
       "    </tr>\n",
       "    <tr>\n",
       "      <th>2</th>\n",
       "      <td>1503960366</td>\n",
       "      <td>3/27/2016</td>\n",
       "      <td>12736</td>\n",
       "      <td>8.53</td>\n",
       "      <td>8.53</td>\n",
       "      <td>0.0</td>\n",
       "      <td>4.66</td>\n",
       "      <td>0.16</td>\n",
       "      <td>3.71</td>\n",
       "      <td>0.0</td>\n",
       "      <td>56</td>\n",
       "      <td>5</td>\n",
       "      <td>268</td>\n",
       "      <td>605</td>\n",
       "      <td>1944</td>\n",
       "    </tr>\n",
       "    <tr>\n",
       "      <th>3</th>\n",
       "      <td>1503960366</td>\n",
       "      <td>3/28/2016</td>\n",
       "      <td>13231</td>\n",
       "      <td>8.93</td>\n",
       "      <td>8.93</td>\n",
       "      <td>0.0</td>\n",
       "      <td>3.19</td>\n",
       "      <td>0.79</td>\n",
       "      <td>4.95</td>\n",
       "      <td>0.0</td>\n",
       "      <td>39</td>\n",
       "      <td>20</td>\n",
       "      <td>224</td>\n",
       "      <td>1080</td>\n",
       "      <td>1932</td>\n",
       "    </tr>\n",
       "    <tr>\n",
       "      <th>4</th>\n",
       "      <td>1503960366</td>\n",
       "      <td>3/29/2016</td>\n",
       "      <td>12041</td>\n",
       "      <td>7.85</td>\n",
       "      <td>7.85</td>\n",
       "      <td>0.0</td>\n",
       "      <td>2.16</td>\n",
       "      <td>1.09</td>\n",
       "      <td>4.61</td>\n",
       "      <td>0.0</td>\n",
       "      <td>28</td>\n",
       "      <td>28</td>\n",
       "      <td>243</td>\n",
       "      <td>763</td>\n",
       "      <td>1886</td>\n",
       "    </tr>\n",
       "  </tbody>\n",
       "</table>\n",
       "</div>"
      ],
      "text/plain": [
       "           Id ActivityDate  TotalSteps  TotalDistance  TrackerDistance  \\\n",
       "0  1503960366    3/25/2016       11004           7.11             7.11   \n",
       "1  1503960366    3/26/2016       17609          11.55            11.55   \n",
       "2  1503960366    3/27/2016       12736           8.53             8.53   \n",
       "3  1503960366    3/28/2016       13231           8.93             8.93   \n",
       "4  1503960366    3/29/2016       12041           7.85             7.85   \n",
       "\n",
       "   LoggedActivitiesDistance  VeryActiveDistance  ModeratelyActiveDistance  \\\n",
       "0                       0.0                2.57                      0.46   \n",
       "1                       0.0                6.92                      0.73   \n",
       "2                       0.0                4.66                      0.16   \n",
       "3                       0.0                3.19                      0.79   \n",
       "4                       0.0                2.16                      1.09   \n",
       "\n",
       "   LightActiveDistance  SedentaryActiveDistance  VeryActiveMinutes  \\\n",
       "0                 4.07                      0.0                 33   \n",
       "1                 3.91                      0.0                 89   \n",
       "2                 3.71                      0.0                 56   \n",
       "3                 4.95                      0.0                 39   \n",
       "4                 4.61                      0.0                 28   \n",
       "\n",
       "   FairlyActiveMinutes  LightlyActiveMinutes  SedentaryMinutes  Calories  \n",
       "0                   12                   205               804      1819  \n",
       "1                   17                   274               588      2154  \n",
       "2                    5                   268               605      1944  \n",
       "3                   20                   224              1080      1932  \n",
       "4                   28                   243               763      1886  "
      ]
     },
     "execution_count": 3,
     "metadata": {},
     "output_type": "execute_result"
    }
   ],
   "source": [
    "# activity \n",
    "\n",
    "activity.head()"
   ]
  },
  {
   "cell_type": "code",
   "execution_count": 4,
   "id": "a6797fce",
   "metadata": {},
   "outputs": [
    {
     "name": "stdout",
     "output_type": "stream",
     "text": [
      "<class 'pandas.core.frame.DataFrame'>\n",
      "RangeIndex: 457 entries, 0 to 456\n",
      "Data columns (total 15 columns):\n",
      " #   Column                    Non-Null Count  Dtype  \n",
      "---  ------                    --------------  -----  \n",
      " 0   Id                        457 non-null    int64  \n",
      " 1   ActivityDate              457 non-null    object \n",
      " 2   TotalSteps                457 non-null    int64  \n",
      " 3   TotalDistance             457 non-null    float64\n",
      " 4   TrackerDistance           457 non-null    float64\n",
      " 5   LoggedActivitiesDistance  457 non-null    float64\n",
      " 6   VeryActiveDistance        457 non-null    float64\n",
      " 7   ModeratelyActiveDistance  457 non-null    float64\n",
      " 8   LightActiveDistance       457 non-null    float64\n",
      " 9   SedentaryActiveDistance   457 non-null    float64\n",
      " 10  VeryActiveMinutes         457 non-null    int64  \n",
      " 11  FairlyActiveMinutes       457 non-null    int64  \n",
      " 12  LightlyActiveMinutes      457 non-null    int64  \n",
      " 13  SedentaryMinutes          457 non-null    int64  \n",
      " 14  Calories                  457 non-null    int64  \n",
      "dtypes: float64(7), int64(7), object(1)\n",
      "memory usage: 53.7+ KB\n"
     ]
    }
   ],
   "source": [
    "activity.info()"
   ]
  },
  {
   "cell_type": "markdown",
   "id": "abeb1bf6",
   "metadata": {},
   "source": [
    "**Notes**:\n",
    "* _Float columns_ with more than 2 decimals will be rounded to only two decimals (TotalDistance, TrackerDistance, VeryActiveDistance, ModeratelyActiveDistance, LightActiveDistance). \n",
    "* _ActivityDate_ will be set as datetime values.\n",
    "* No missing values. "
   ]
  },
  {
   "cell_type": "code",
   "execution_count": 5,
   "id": "559ef435",
   "metadata": {},
   "outputs": [],
   "source": [
    "# float columns round \n",
    "\n",
    "float_cols = ['TotalDistance', 'TrackerDistance', 'VeryActiveDistance', 'ModeratelyActiveDistance', 'LightActiveDistance']\n",
    "activity[float_cols] = activity[float_cols].round(2)"
   ]
  },
  {
   "cell_type": "code",
   "execution_count": 6,
   "id": "1abeb055",
   "metadata": {},
   "outputs": [],
   "source": [
    "# change ActivityDate to date only \n",
    "\n",
    "activity['ActivityDate'] = pd.to_datetime(activity['ActivityDate'])"
   ]
  },
  {
   "cell_type": "code",
   "execution_count": 7,
   "id": "537fa6a8",
   "metadata": {},
   "outputs": [
    {
     "data": {
      "text/plain": [
       "0"
      ]
     },
     "execution_count": 7,
     "metadata": {},
     "output_type": "execute_result"
    }
   ],
   "source": [
    "# search for duplicates in activity data\n",
    "duplicates = activity[activity.duplicated()]\n",
    "duplicates_count = duplicates.shape[0]\n",
    "duplicates_count\n",
    "\n",
    "# An alternative way to check for duplicates\n",
    "# activity.duplicated().sum()"
   ]
  },
  {
   "cell_type": "markdown",
   "id": "91135a79",
   "metadata": {},
   "source": [
    "**Notes**:\n",
    "\n",
    "No duplicated rows were found. "
   ]
  },
  {
   "cell_type": "code",
   "execution_count": 89,
   "id": "e8e4d261",
   "metadata": {},
   "outputs": [
    {
     "name": "stdout",
     "output_type": "stream",
     "text": [
      "Number of unique users in activity data: 35\n"
     ]
    }
   ],
   "source": [
    "# Number of unique users\n",
    "unique_users = activity['Id'].nunique()\n",
    "print(f\"Number of unique users in activity data: {unique_users}\")   "
   ]
  },
  {
   "cell_type": "markdown",
   "id": "aa2637dc",
   "metadata": {},
   "source": [
    "**Notes** :\n",
    "\n",
    "We have a total of 35 unique users. "
   ]
  },
  {
   "cell_type": "code",
   "execution_count": 62,
   "id": "6f685778",
   "metadata": {},
   "outputs": [
    {
     "data": {
      "application/vnd.microsoft.datawrangler.viewer.v0+json": {
       "columns": [
        {
         "name": "index",
         "rawType": "object",
         "type": "string"
        },
        {
         "name": "TotalSteps",
         "rawType": "float64",
         "type": "float"
        },
        {
         "name": "TotalDistance",
         "rawType": "float64",
         "type": "float"
        },
        {
         "name": "TrackerDistance",
         "rawType": "float64",
         "type": "float"
        },
        {
         "name": "LoggedActivitiesDistance",
         "rawType": "float64",
         "type": "float"
        },
        {
         "name": "VeryActiveDistance",
         "rawType": "float64",
         "type": "float"
        },
        {
         "name": "ModeratelyActiveDistance",
         "rawType": "float64",
         "type": "float"
        },
        {
         "name": "LightActiveDistance",
         "rawType": "float64",
         "type": "float"
        },
        {
         "name": "SedentaryActiveDistance",
         "rawType": "float64",
         "type": "float"
        },
        {
         "name": "VeryActiveMinutes",
         "rawType": "float64",
         "type": "float"
        },
        {
         "name": "FairlyActiveMinutes",
         "rawType": "float64",
         "type": "float"
        },
        {
         "name": "LightlyActiveMinutes",
         "rawType": "float64",
         "type": "float"
        },
        {
         "name": "SedentaryMinutes",
         "rawType": "float64",
         "type": "float"
        },
        {
         "name": "Calories",
         "rawType": "float64",
         "type": "float"
        },
        {
         "name": "Month",
         "rawType": "float64",
         "type": "float"
        }
       ],
       "ref": "1731bc27-dba1-4ad4-b1ee-75298512523b",
       "rows": [
        [
         "count",
         "457.0",
         "457.0",
         "457.0",
         "457.0",
         "457.0",
         "457.0",
         "457.0",
         "457.0",
         "457.0",
         "457.0",
         "457.0",
         "457.0",
         "457.0",
         "457.0"
        ],
        [
         "mean",
         "6546.56",
         "4.66",
         "4.61",
         "0.18",
         "1.18",
         "0.48",
         "2.89",
         "0.0",
         "16.62",
         "13.07",
         "170.07",
         "995.28",
         "2189.45",
         "3.84"
        ],
        [
         "min",
         "0.0",
         "0.0",
         "0.0",
         "0.0",
         "0.0",
         "0.0",
         "0.0",
         "0.0",
         "0.0",
         "0.0",
         "0.0",
         "32.0",
         "0.0",
         "3.0"
        ],
        [
         "25%",
         "1988.0",
         "1.41",
         "1.28",
         "0.0",
         "0.0",
         "0.0",
         "0.87",
         "0.0",
         "0.0",
         "0.0",
         "64.0",
         "728.0",
         "1776.0",
         "4.0"
        ],
        [
         "50%",
         "5986.0",
         "4.09",
         "4.09",
         "0.0",
         "0.0",
         "0.02",
         "2.93",
         "0.0",
         "0.0",
         "1.0",
         "181.0",
         "1057.0",
         "2062.0",
         "4.0"
        ],
        [
         "75%",
         "10198.0",
         "7.16",
         "7.11",
         "0.0",
         "1.31",
         "0.67",
         "4.46",
         "0.0",
         "25.0",
         "16.0",
         "257.0",
         "1285.0",
         "2667.0",
         "4.0"
        ],
        [
         "max",
         "28497.0",
         "27.53",
         "27.53",
         "6.73",
         "21.92",
         "6.4",
         "12.51",
         "0.1",
         "202.0",
         "660.0",
         "720.0",
         "1440.0",
         "4562.0",
         "4.0"
        ],
        [
         "std",
         "5398.49",
         "4.08",
         "4.07",
         "0.85",
         "2.49",
         "0.83",
         "2.24",
         "0.01",
         "28.92",
         "36.21",
         "122.21",
         "337.02",
         "815.48",
         "0.37"
        ]
       ],
       "shape": {
        "columns": 14,
        "rows": 8
       }
      },
      "text/html": [
       "<div>\n",
       "<style scoped>\n",
       "    .dataframe tbody tr th:only-of-type {\n",
       "        vertical-align: middle;\n",
       "    }\n",
       "\n",
       "    .dataframe tbody tr th {\n",
       "        vertical-align: top;\n",
       "    }\n",
       "\n",
       "    .dataframe thead th {\n",
       "        text-align: right;\n",
       "    }\n",
       "</style>\n",
       "<table border=\"1\" class=\"dataframe\">\n",
       "  <thead>\n",
       "    <tr style=\"text-align: right;\">\n",
       "      <th></th>\n",
       "      <th>TotalSteps</th>\n",
       "      <th>TotalDistance</th>\n",
       "      <th>TrackerDistance</th>\n",
       "      <th>LoggedActivitiesDistance</th>\n",
       "      <th>VeryActiveDistance</th>\n",
       "      <th>ModeratelyActiveDistance</th>\n",
       "      <th>LightActiveDistance</th>\n",
       "      <th>SedentaryActiveDistance</th>\n",
       "      <th>VeryActiveMinutes</th>\n",
       "      <th>FairlyActiveMinutes</th>\n",
       "      <th>LightlyActiveMinutes</th>\n",
       "      <th>SedentaryMinutes</th>\n",
       "      <th>Calories</th>\n",
       "      <th>Month</th>\n",
       "    </tr>\n",
       "  </thead>\n",
       "  <tbody>\n",
       "    <tr>\n",
       "      <th>count</th>\n",
       "      <td>457.00</td>\n",
       "      <td>457.00</td>\n",
       "      <td>457.00</td>\n",
       "      <td>457.00</td>\n",
       "      <td>457.00</td>\n",
       "      <td>457.00</td>\n",
       "      <td>457.00</td>\n",
       "      <td>457.00</td>\n",
       "      <td>457.00</td>\n",
       "      <td>457.00</td>\n",
       "      <td>457.00</td>\n",
       "      <td>457.00</td>\n",
       "      <td>457.00</td>\n",
       "      <td>457.00</td>\n",
       "    </tr>\n",
       "    <tr>\n",
       "      <th>mean</th>\n",
       "      <td>6546.56</td>\n",
       "      <td>4.66</td>\n",
       "      <td>4.61</td>\n",
       "      <td>0.18</td>\n",
       "      <td>1.18</td>\n",
       "      <td>0.48</td>\n",
       "      <td>2.89</td>\n",
       "      <td>0.00</td>\n",
       "      <td>16.62</td>\n",
       "      <td>13.07</td>\n",
       "      <td>170.07</td>\n",
       "      <td>995.28</td>\n",
       "      <td>2189.45</td>\n",
       "      <td>3.84</td>\n",
       "    </tr>\n",
       "    <tr>\n",
       "      <th>min</th>\n",
       "      <td>0.00</td>\n",
       "      <td>0.00</td>\n",
       "      <td>0.00</td>\n",
       "      <td>0.00</td>\n",
       "      <td>0.00</td>\n",
       "      <td>0.00</td>\n",
       "      <td>0.00</td>\n",
       "      <td>0.00</td>\n",
       "      <td>0.00</td>\n",
       "      <td>0.00</td>\n",
       "      <td>0.00</td>\n",
       "      <td>32.00</td>\n",
       "      <td>0.00</td>\n",
       "      <td>3.00</td>\n",
       "    </tr>\n",
       "    <tr>\n",
       "      <th>25%</th>\n",
       "      <td>1988.00</td>\n",
       "      <td>1.41</td>\n",
       "      <td>1.28</td>\n",
       "      <td>0.00</td>\n",
       "      <td>0.00</td>\n",
       "      <td>0.00</td>\n",
       "      <td>0.87</td>\n",
       "      <td>0.00</td>\n",
       "      <td>0.00</td>\n",
       "      <td>0.00</td>\n",
       "      <td>64.00</td>\n",
       "      <td>728.00</td>\n",
       "      <td>1776.00</td>\n",
       "      <td>4.00</td>\n",
       "    </tr>\n",
       "    <tr>\n",
       "      <th>50%</th>\n",
       "      <td>5986.00</td>\n",
       "      <td>4.09</td>\n",
       "      <td>4.09</td>\n",
       "      <td>0.00</td>\n",
       "      <td>0.00</td>\n",
       "      <td>0.02</td>\n",
       "      <td>2.93</td>\n",
       "      <td>0.00</td>\n",
       "      <td>0.00</td>\n",
       "      <td>1.00</td>\n",
       "      <td>181.00</td>\n",
       "      <td>1057.00</td>\n",
       "      <td>2062.00</td>\n",
       "      <td>4.00</td>\n",
       "    </tr>\n",
       "    <tr>\n",
       "      <th>75%</th>\n",
       "      <td>10198.00</td>\n",
       "      <td>7.16</td>\n",
       "      <td>7.11</td>\n",
       "      <td>0.00</td>\n",
       "      <td>1.31</td>\n",
       "      <td>0.67</td>\n",
       "      <td>4.46</td>\n",
       "      <td>0.00</td>\n",
       "      <td>25.00</td>\n",
       "      <td>16.00</td>\n",
       "      <td>257.00</td>\n",
       "      <td>1285.00</td>\n",
       "      <td>2667.00</td>\n",
       "      <td>4.00</td>\n",
       "    </tr>\n",
       "    <tr>\n",
       "      <th>max</th>\n",
       "      <td>28497.00</td>\n",
       "      <td>27.53</td>\n",
       "      <td>27.53</td>\n",
       "      <td>6.73</td>\n",
       "      <td>21.92</td>\n",
       "      <td>6.40</td>\n",
       "      <td>12.51</td>\n",
       "      <td>0.10</td>\n",
       "      <td>202.00</td>\n",
       "      <td>660.00</td>\n",
       "      <td>720.00</td>\n",
       "      <td>1440.00</td>\n",
       "      <td>4562.00</td>\n",
       "      <td>4.00</td>\n",
       "    </tr>\n",
       "    <tr>\n",
       "      <th>std</th>\n",
       "      <td>5398.49</td>\n",
       "      <td>4.08</td>\n",
       "      <td>4.07</td>\n",
       "      <td>0.85</td>\n",
       "      <td>2.49</td>\n",
       "      <td>0.83</td>\n",
       "      <td>2.24</td>\n",
       "      <td>0.01</td>\n",
       "      <td>28.92</td>\n",
       "      <td>36.21</td>\n",
       "      <td>122.21</td>\n",
       "      <td>337.02</td>\n",
       "      <td>815.48</td>\n",
       "      <td>0.37</td>\n",
       "    </tr>\n",
       "  </tbody>\n",
       "</table>\n",
       "</div>"
      ],
      "text/plain": [
       "       TotalSteps  TotalDistance  TrackerDistance  LoggedActivitiesDistance  \\\n",
       "count      457.00         457.00           457.00                    457.00   \n",
       "mean      6546.56           4.66             4.61                      0.18   \n",
       "min          0.00           0.00             0.00                      0.00   \n",
       "25%       1988.00           1.41             1.28                      0.00   \n",
       "50%       5986.00           4.09             4.09                      0.00   \n",
       "75%      10198.00           7.16             7.11                      0.00   \n",
       "max      28497.00          27.53            27.53                      6.73   \n",
       "std       5398.49           4.08             4.07                      0.85   \n",
       "\n",
       "       VeryActiveDistance  ModeratelyActiveDistance  LightActiveDistance  \\\n",
       "count              457.00                    457.00               457.00   \n",
       "mean                 1.18                      0.48                 2.89   \n",
       "min                  0.00                      0.00                 0.00   \n",
       "25%                  0.00                      0.00                 0.87   \n",
       "50%                  0.00                      0.02                 2.93   \n",
       "75%                  1.31                      0.67                 4.46   \n",
       "max                 21.92                      6.40                12.51   \n",
       "std                  2.49                      0.83                 2.24   \n",
       "\n",
       "       SedentaryActiveDistance  VeryActiveMinutes  FairlyActiveMinutes  \\\n",
       "count                   457.00             457.00               457.00   \n",
       "mean                      0.00              16.62                13.07   \n",
       "min                       0.00               0.00                 0.00   \n",
       "25%                       0.00               0.00                 0.00   \n",
       "50%                       0.00               0.00                 1.00   \n",
       "75%                       0.00              25.00                16.00   \n",
       "max                       0.10             202.00               660.00   \n",
       "std                       0.01              28.92                36.21   \n",
       "\n",
       "       LightlyActiveMinutes  SedentaryMinutes  Calories   Month  \n",
       "count                457.00            457.00    457.00  457.00  \n",
       "mean                 170.07            995.28   2189.45    3.84  \n",
       "min                    0.00             32.00      0.00    3.00  \n",
       "25%                   64.00            728.00   1776.00    4.00  \n",
       "50%                  181.00           1057.00   2062.00    4.00  \n",
       "75%                  257.00           1285.00   2667.00    4.00  \n",
       "max                  720.00           1440.00   4562.00    4.00  \n",
       "std                  122.21            337.02    815.48    0.37  "
      ]
     },
     "execution_count": 62,
     "metadata": {},
     "output_type": "execute_result"
    }
   ],
   "source": [
    "# Describe activity data, without Id and ActivityDate columns. \n",
    "activity.describe().drop(columns=['Id','ActivityDate']).round(2)"
   ]
  },
  {
   "cell_type": "code",
   "execution_count": 85,
   "id": "9f5659c2",
   "metadata": {},
   "outputs": [
    {
     "data": {
      "image/png": "[encoded data removed]",
      "text/plain": [
       "<Figure size 1200x600 with 1 Axes>"
      ]
     },
     "metadata": {},
     "output_type": "display_data"
    }
   ],
   "source": [
    "# Users per date \n",
    "users_per_date = activity.groupby('ActivityDate')['Id'].nunique().reset_index()\n",
    "users_per_date.rename(columns={'Id': 'Users'}, inplace=True)\n",
    "\n",
    "# Plot users per date\n",
    "plt.figure(figsize=(12, 6))    \n",
    "sns.set_theme(style=\"darkgrid\") \n",
    "sns.barplot(x='ActivityDate', y='Users', data=users_per_date, palette='viridis', hue='ActivityDate')\n",
    "plt.title('Users per date')\n",
    "plt.xlabel('Date')\n",
    "plt.ylabel('Number of Users')\n",
    "plt.xticks(rotation=45)\n",
    "plt.show()"
   ]
  },
  {
   "cell_type": "code",
   "execution_count": 67,
   "id": "31cda53b",
   "metadata": {},
   "outputs": [
    {
     "data": {
      "image/png": "[encoded data removed]",
      "text/plain": [
       "<Figure size 1200x600 with 1 Axes>"
      ]
     },
     "metadata": {},
     "output_type": "display_data"
    }
   ],
   "source": [
    "# Users growth \n",
    "users_per_date['%_growth'] = users_per_date['Users'].pct_change()* 100\n",
    "users_per_date['%_growth'] = users_per_date['%_growth'].fillna(0).round(2)\n",
    "\n",
    "\n",
    "# grpahh users growth   \n",
    "plt.figure(figsize=(12, 6))    \n",
    "sns.set_theme(style=\"darkgrid\") \n",
    "sns.lineplot(x='ActivityDate', y='%_growth', data=users_per_date, marker='o', color='blue')\n",
    "plt.title('Users growth over time')\n",
    "plt.xlabel('Date')\n",
    "plt.ylabel('Percentage growth (%)')\n",
    "plt.xticks(rotation=90)\n",
    "plt.axhline(0, color='red', linestyle='--', linewidth=1)\n",
    "plt.show()\n",
    "\n",
    "\n"
   ]
  },
  {
   "cell_type": "code",
   "execution_count": 68,
   "id": "2a16e1fd",
   "metadata": {},
   "outputs": [
    {
     "name": "stdout",
     "output_type": "stream",
     "text": [
      "   ActivityDate  Users  %_growth\n",
      "20   2016-04-01     34    209.09\n",
      "17   2016-03-29     10    150.00\n",
      "13   2016-03-25      4    100.00\n",
      "\n",
      "   ActivityDate  Users  %_growth\n",
      "25   2016-04-06     33     -5.71\n",
      "29   2016-04-10     29     -9.38\n",
      "30   2016-04-11     25    -13.79\n"
     ]
    }
   ],
   "source": [
    "\n",
    "users_sorted = users_per_date.sort_values(by='%_growth', ascending=False)\n",
    "print(users_sorted.head(3))\n",
    "print()\n",
    "print(users_sorted.tail(3))"
   ]
  },
  {
   "cell_type": "markdown",
   "id": "0046dd90",
   "metadata": {},
   "source": [
    "**Notes**:\n",
    "\n",
    "\n",
    "* Three dates show a __major increase in the percentage of users__: \n",
    "    * 2016-03-25 -> 100%.\n",
    "    * 2016-03-29 -> 150%. \n",
    "    * 2016-04-01 -> 209%\n",
    "    \n",
    "*  Three dates show a __major decrease in the percentage of users__:\n",
    "    * 2016-04-06 -> -5.71%. \n",
    "    * 2016-04-10 -> -9.38%. \n",
    "    * 2016-04-11 -> -13.79%. \n"
   ]
  },
  {
   "cell_type": "code",
   "execution_count": 69,
   "id": "2ce0c038",
   "metadata": {},
   "outputs": [
    {
     "data": {
      "image/png": "[encoded data removed]",
      "text/plain": [
       "<Figure size 1200x600 with 1 Axes>"
      ]
     },
     "metadata": {},
     "output_type": "display_data"
    }
   ],
   "source": [
    "# Users per month \n",
    "users_per_month = activity.groupby(activity['ActivityDate'].dt.to_period('M'))['Id'].nunique().reset_index()\n",
    "users_per_month.rename(columns={'Id': 'Users'}, inplace=True)\n",
    "\n",
    "# Plot users per month\n",
    "plt.figure(figsize=(12, 6))\n",
    "sns.set_theme(style=\"darkgrid\")\n",
    "sns.barplot(x='ActivityDate', y='Users', data=users_per_month, palette='viridis', hue='ActivityDate')\n",
    "plt.title('Users per Month')\n",
    "plt.xlabel('Month')\n",
    "plt.ylabel('Number of Users')\n",
    "plt.xticks(rotation=45)\n",
    "plt.show()"
   ]
  },
  {
   "cell_type": "code",
   "execution_count": 72,
   "id": "5007c79d",
   "metadata": {},
   "outputs": [
    {
     "data": {
      "image/png": "[encoded data removed]",
      "text/plain": [
       "<Figure size 1200x600 with 1 Axes>"
      ]
     },
     "metadata": {},
     "output_type": "display_data"
    }
   ],
   "source": [
    "# Users per month in percentage\n",
    "users_per_month['Percentage'] = round((users_per_month['Users'] / users_per_month['Users'].sum()) * 100,2) \n",
    "\n",
    "\n",
    "# Plot users per month in percentage\n",
    "plt.figure(figsize=(12, 6))     \n",
    "sns.set_theme(style=\"darkgrid\")\n",
    "sns.barplot(x='ActivityDate', y='Percentage', data=users_per_month, palette='viridis', hue='ActivityDate')\n",
    "plt.title('Users per month in  percentage')\n",
    "plt.xlabel('Month')\n",
    "plt.ylabel('Users (%)')\n",
    "plt.xticks(rotation=45)\n",
    "plt.show()"
   ]
  },
  {
   "cell_type": "code",
   "execution_count": 86,
   "id": "8b7f9b71",
   "metadata": {},
   "outputs": [],
   "source": [
    "users_per_month['Growth_%'] = users_per_month['Users'].pct_change() * 100\n",
    "users_per_month['Growth_%'] = users_per_month['Growth_%'].fillna(0).round(2)\n"
   ]
  },
  {
   "cell_type": "code",
   "execution_count": 88,
   "id": "226566a8",
   "metadata": {},
   "outputs": [
    {
     "name": "stdout",
     "output_type": "stream",
     "text": [
      "The user growth in April is 218.18%.\n",
      "The increase in the user from March to April is 24 users, which is a 52.18% increase.\n",
      "The user growth from March to April is =  218.18%.\n"
     ]
    }
   ],
   "source": [
    "# Answers automation for reporting. \n",
    "growth_ = users_per_month['Growth_%'].to_list()[-1]\n",
    "increase_users = users_per_month['Users'].to_list()[-1] - users_per_month['Users'].to_list()[0]\n",
    "increase_users_perc =  round(users_per_month['Percentage'].to_list()[-1] - users_per_month['Percentage'].to_list()[0], 2) \n",
    "\n",
    "print(f\"The user growth in April is {growth_}%.\")\n",
    "print(f\"The increase in the user from March to April is {increase_users} users, which is a {increase_users_perc}% increase.\")\n",
    "print(f\"The user growth from March to April is =  {growth_}%.\")\n"
   ]
  },
  {
   "cell_type": "markdown",
   "id": "eceebbda",
   "metadata": {},
   "source": [
    "### Sleep"
   ]
  },
  {
   "cell_type": "code",
   "execution_count": 9,
   "id": "bcbfd328",
   "metadata": {},
   "outputs": [
    {
     "data": {
      "application/vnd.microsoft.datawrangler.viewer.v0+json": {
       "columns": [
        {
         "name": "index",
         "rawType": "int64",
         "type": "integer"
        },
        {
         "name": "Id",
         "rawType": "int64",
         "type": "integer"
        },
        {
         "name": "date",
         "rawType": "object",
         "type": "string"
        },
        {
         "name": "value",
         "rawType": "int64",
         "type": "integer"
        },
        {
         "name": "logId",
         "rawType": "int64",
         "type": "integer"
        }
       ],
       "ref": "c2a4b650-d3fe-4ba4-8cf3-f1f325d098bb",
       "rows": [
        [
         "0",
         "1503960366",
         "3/13/2016 2:39:30 AM",
         "1",
         "11114919637"
        ],
        [
         "1",
         "1503960366",
         "3/13/2016 2:40:30 AM",
         "1",
         "11114919637"
        ],
        [
         "2",
         "1503960366",
         "3/13/2016 2:41:30 AM",
         "1",
         "11114919637"
        ],
        [
         "3",
         "1503960366",
         "3/13/2016 2:42:30 AM",
         "1",
         "11114919637"
        ],
        [
         "4",
         "1503960366",
         "3/13/2016 2:43:30 AM",
         "1",
         "11114919637"
        ]
       ],
       "shape": {
        "columns": 4,
        "rows": 5
       }
      },
      "text/html": [
       "<div>\n",
       "<style scoped>\n",
       "    .dataframe tbody tr th:only-of-type {\n",
       "        vertical-align: middle;\n",
       "    }\n",
       "\n",
       "    .dataframe tbody tr th {\n",
       "        vertical-align: top;\n",
       "    }\n",
       "\n",
       "    .dataframe thead th {\n",
       "        text-align: right;\n",
       "    }\n",
       "</style>\n",
       "<table border=\"1\" class=\"dataframe\">\n",
       "  <thead>\n",
       "    <tr style=\"text-align: right;\">\n",
       "      <th></th>\n",
       "      <th>Id</th>\n",
       "      <th>date</th>\n",
       "      <th>value</th>\n",
       "      <th>logId</th>\n",
       "    </tr>\n",
       "  </thead>\n",
       "  <tbody>\n",
       "    <tr>\n",
       "      <th>0</th>\n",
       "      <td>1503960366</td>\n",
       "      <td>3/13/2016 2:39:30 AM</td>\n",
       "      <td>1</td>\n",
       "      <td>11114919637</td>\n",
       "    </tr>\n",
       "    <tr>\n",
       "      <th>1</th>\n",
       "      <td>1503960366</td>\n",
       "      <td>3/13/2016 2:40:30 AM</td>\n",
       "      <td>1</td>\n",
       "      <td>11114919637</td>\n",
       "    </tr>\n",
       "    <tr>\n",
       "      <th>2</th>\n",
       "      <td>1503960366</td>\n",
       "      <td>3/13/2016 2:41:30 AM</td>\n",
       "      <td>1</td>\n",
       "      <td>11114919637</td>\n",
       "    </tr>\n",
       "    <tr>\n",
       "      <th>3</th>\n",
       "      <td>1503960366</td>\n",
       "      <td>3/13/2016 2:42:30 AM</td>\n",
       "      <td>1</td>\n",
       "      <td>11114919637</td>\n",
       "    </tr>\n",
       "    <tr>\n",
       "      <th>4</th>\n",
       "      <td>1503960366</td>\n",
       "      <td>3/13/2016 2:43:30 AM</td>\n",
       "      <td>1</td>\n",
       "      <td>11114919637</td>\n",
       "    </tr>\n",
       "  </tbody>\n",
       "</table>\n",
       "</div>"
      ],
      "text/plain": [
       "           Id                  date  value        logId\n",
       "0  1503960366  3/13/2016 2:39:30 AM      1  11114919637\n",
       "1  1503960366  3/13/2016 2:40:30 AM      1  11114919637\n",
       "2  1503960366  3/13/2016 2:41:30 AM      1  11114919637\n",
       "3  1503960366  3/13/2016 2:42:30 AM      1  11114919637\n",
       "4  1503960366  3/13/2016 2:43:30 AM      1  11114919637"
      ]
     },
     "execution_count": 9,
     "metadata": {},
     "output_type": "execute_result"
    }
   ],
   "source": [
    "sleep.head()"
   ]
  },
  {
   "cell_type": "code",
   "execution_count": 10,
   "id": "1a2d1a4a",
   "metadata": {},
   "outputs": [
    {
     "name": "stdout",
     "output_type": "stream",
     "text": [
      "<class 'pandas.core.frame.DataFrame'>\n",
      "RangeIndex: 198559 entries, 0 to 198558\n",
      "Data columns (total 4 columns):\n",
      " #   Column  Non-Null Count   Dtype \n",
      "---  ------  --------------   ----- \n",
      " 0   Id      198559 non-null  int64 \n",
      " 1   date    198559 non-null  object\n",
      " 2   value   198559 non-null  int64 \n",
      " 3   logId   198559 non-null  int64 \n",
      "dtypes: int64(3), object(1)\n",
      "memory usage: 6.1+ MB\n"
     ]
    }
   ],
   "source": [
    "sleep.info()"
   ]
  },
  {
   "cell_type": "markdown",
   "id": "31c3a30b",
   "metadata": {},
   "source": [
    "__Notes__ : \n",
    "\n",
    "* Total registres = 198,559. \n",
    "* Colum date will be set as datetime type. "
   ]
  },
  {
   "cell_type": "code",
   "execution_count": 11,
   "id": "a2d84c2c",
   "metadata": {},
   "outputs": [],
   "source": [
    "sleep['date'] = pd.to_datetime(sleep['date'].str.strip(), format='mixed')"
   ]
  },
  {
   "cell_type": "code",
   "execution_count": 12,
   "id": "bd752932",
   "metadata": {},
   "outputs": [
    {
     "name": "stdout",
     "output_type": "stream",
     "text": [
      "[1503960366 1644430081 1844505072 1927972279 2022484408 2026352035\n",
      " 2347167796 3977333714 4020332650 4319703577 4445114986 4558609924\n",
      " 4702921684 5553957443 5577150313 6117666160 6775888955 6962181067\n",
      " 7007744171 7086361926 8053475328 8378563200 8792009665]\n",
      "\n",
      "Total number of IDs registred = 23\n"
     ]
    }
   ],
   "source": [
    "\n",
    "print(sleep['Id'].unique())\n",
    "print()\n",
    "print(\"Total number of IDs registred = {}\".format(sleep['Id'].nunique()))"
   ]
  },
  {
   "cell_type": "markdown",
   "id": "1ce84b82",
   "metadata": {},
   "source": [
    "**Notes**:\n",
    "\n",
    "* A total number of 23 unique IDs in the sleep dataframe.\n",
    "* We have 12 fewer unique IDs compared with the activity dataframe. This could indicate that not all users are wearing the device for sleep tracking. "
   ]
  },
  {
   "cell_type": "markdown",
   "id": "97e8027a",
   "metadata": {},
   "source": [
    "### Weight loss"
   ]
  },
  {
   "cell_type": "code",
   "execution_count": 13,
   "id": "9c0a0905",
   "metadata": {},
   "outputs": [
    {
     "data": {
      "application/vnd.microsoft.datawrangler.viewer.v0+json": {
       "columns": [
        {
         "name": "index",
         "rawType": "int64",
         "type": "integer"
        },
        {
         "name": "Id",
         "rawType": "int64",
         "type": "integer"
        },
        {
         "name": "Date",
         "rawType": "object",
         "type": "string"
        },
        {
         "name": "WeightKg",
         "rawType": "float64",
         "type": "float"
        },
        {
         "name": "WeightPounds",
         "rawType": "float64",
         "type": "float"
        },
        {
         "name": "Fat",
         "rawType": "float64",
         "type": "float"
        },
        {
         "name": "BMI",
         "rawType": "float64",
         "type": "float"
        },
        {
         "name": "IsManualReport",
         "rawType": "bool",
         "type": "boolean"
        },
        {
         "name": "LogId",
         "rawType": "int64",
         "type": "integer"
        }
       ],
       "ref": "f07e774d-c6dc-4228-91bf-a3521921254b",
       "rows": [
        [
         "0",
         "1503960366",
         "4/5/2016 11:59:59 PM",
         "53.2999992370605",
         "117.506384062611",
         "22.0",
         "22.9699993133545",
         "True",
         "1459900799000"
        ],
        [
         "1",
         "1927972279",
         "4/10/2016 6:33:26 PM",
         "129.600006103516",
         "285.719105247709",
         null,
         "46.1699981689453",
         "False",
         "1460313206000"
        ],
        [
         "2",
         "2347167796",
         "4/3/2016 11:59:59 PM",
         "63.4000015258789",
         "139.773077589277",
         "10.0",
         "24.7700004577637",
         "True",
         "1459727999000"
        ],
        [
         "3",
         "2873212765",
         "4/6/2016 11:59:59 PM",
         "56.7000007629395",
         "125.002104340889",
         null,
         "21.4500007629395",
         "True",
         "1459987199000"
        ],
        [
         "4",
         "2873212765",
         "4/7/2016 11:59:59 PM",
         "57.2000007629395",
         "126.104415651814",
         null,
         "21.6499996185303",
         "True",
         "1460073599000"
        ]
       ],
       "shape": {
        "columns": 8,
        "rows": 5
       }
      },
      "text/html": [
       "<div>\n",
       "<style scoped>\n",
       "    .dataframe tbody tr th:only-of-type {\n",
       "        vertical-align: middle;\n",
       "    }\n",
       "\n",
       "    .dataframe tbody tr th {\n",
       "        vertical-align: top;\n",
       "    }\n",
       "\n",
       "    .dataframe thead th {\n",
       "        text-align: right;\n",
       "    }\n",
       "</style>\n",
       "<table border=\"1\" class=\"dataframe\">\n",
       "  <thead>\n",
       "    <tr style=\"text-align: right;\">\n",
       "      <th></th>\n",
       "      <th>Id</th>\n",
       "      <th>Date</th>\n",
       "      <th>WeightKg</th>\n",
       "      <th>WeightPounds</th>\n",
       "      <th>Fat</th>\n",
       "      <th>BMI</th>\n",
       "      <th>IsManualReport</th>\n",
       "      <th>LogId</th>\n",
       "    </tr>\n",
       "  </thead>\n",
       "  <tbody>\n",
       "    <tr>\n",
       "      <th>0</th>\n",
       "      <td>1503960366</td>\n",
       "      <td>4/5/2016 11:59:59 PM</td>\n",
       "      <td>53.299999</td>\n",
       "      <td>117.506384</td>\n",
       "      <td>22.0</td>\n",
       "      <td>22.969999</td>\n",
       "      <td>True</td>\n",
       "      <td>1459900799000</td>\n",
       "    </tr>\n",
       "    <tr>\n",
       "      <th>1</th>\n",
       "      <td>1927972279</td>\n",
       "      <td>4/10/2016 6:33:26 PM</td>\n",
       "      <td>129.600006</td>\n",
       "      <td>285.719105</td>\n",
       "      <td>NaN</td>\n",
       "      <td>46.169998</td>\n",
       "      <td>False</td>\n",
       "      <td>1460313206000</td>\n",
       "    </tr>\n",
       "    <tr>\n",
       "      <th>2</th>\n",
       "      <td>2347167796</td>\n",
       "      <td>4/3/2016 11:59:59 PM</td>\n",
       "      <td>63.400002</td>\n",
       "      <td>139.773078</td>\n",
       "      <td>10.0</td>\n",
       "      <td>24.770000</td>\n",
       "      <td>True</td>\n",
       "      <td>1459727999000</td>\n",
       "    </tr>\n",
       "    <tr>\n",
       "      <th>3</th>\n",
       "      <td>2873212765</td>\n",
       "      <td>4/6/2016 11:59:59 PM</td>\n",
       "      <td>56.700001</td>\n",
       "      <td>125.002104</td>\n",
       "      <td>NaN</td>\n",
       "      <td>21.450001</td>\n",
       "      <td>True</td>\n",
       "      <td>1459987199000</td>\n",
       "    </tr>\n",
       "    <tr>\n",
       "      <th>4</th>\n",
       "      <td>2873212765</td>\n",
       "      <td>4/7/2016 11:59:59 PM</td>\n",
       "      <td>57.200001</td>\n",
       "      <td>126.104416</td>\n",
       "      <td>NaN</td>\n",
       "      <td>21.650000</td>\n",
       "      <td>True</td>\n",
       "      <td>1460073599000</td>\n",
       "    </tr>\n",
       "  </tbody>\n",
       "</table>\n",
       "</div>"
      ],
      "text/plain": [
       "           Id                  Date    WeightKg  WeightPounds   Fat  \\\n",
       "0  1503960366  4/5/2016 11:59:59 PM   53.299999    117.506384  22.0   \n",
       "1  1927972279  4/10/2016 6:33:26 PM  129.600006    285.719105   NaN   \n",
       "2  2347167796  4/3/2016 11:59:59 PM   63.400002    139.773078  10.0   \n",
       "3  2873212765  4/6/2016 11:59:59 PM   56.700001    125.002104   NaN   \n",
       "4  2873212765  4/7/2016 11:59:59 PM   57.200001    126.104416   NaN   \n",
       "\n",
       "         BMI  IsManualReport          LogId  \n",
       "0  22.969999            True  1459900799000  \n",
       "1  46.169998           False  1460313206000  \n",
       "2  24.770000            True  1459727999000  \n",
       "3  21.450001            True  1459987199000  \n",
       "4  21.650000            True  1460073599000  "
      ]
     },
     "execution_count": 13,
     "metadata": {},
     "output_type": "execute_result"
    }
   ],
   "source": [
    "weight_loss.head()"
   ]
  },
  {
   "cell_type": "code",
   "execution_count": 14,
   "id": "c3cbf369",
   "metadata": {},
   "outputs": [
    {
     "name": "stdout",
     "output_type": "stream",
     "text": [
      "<class 'pandas.core.frame.DataFrame'>\n",
      "RangeIndex: 33 entries, 0 to 32\n",
      "Data columns (total 8 columns):\n",
      " #   Column          Non-Null Count  Dtype  \n",
      "---  ------          --------------  -----  \n",
      " 0   Id              33 non-null     int64  \n",
      " 1   Date            33 non-null     object \n",
      " 2   WeightKg        33 non-null     float64\n",
      " 3   WeightPounds    33 non-null     float64\n",
      " 4   Fat             2 non-null      float64\n",
      " 5   BMI             33 non-null     float64\n",
      " 6   IsManualReport  33 non-null     bool   \n",
      " 7   LogId           33 non-null     int64  \n",
      "dtypes: bool(1), float64(4), int64(2), object(1)\n",
      "memory usage: 2.0+ KB\n"
     ]
    }
   ],
   "source": [
    "weight_loss.info()"
   ]
  }
 ],
 "metadata": {
  "kernelspec": {
   "display_name": "base",
   "language": "python",
   "name": "python3"
  },
  "language_info": {
   "codemirror_mode": {
    "name": "ipython",
    "version": 3
   },
   "file_extension": ".py",
   "mimetype": "text/x-python",
   "name": "python",
   "nbconvert_exporter": "python",
   "pygments_lexer": "ipython3",
   "version": "3.13.5"
  }
 },
 "nbformat": 4,
 "nbformat_minor": 5
}
