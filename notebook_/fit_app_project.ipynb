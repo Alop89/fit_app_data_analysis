{
 "cells": [
  {
   "cell_type": "markdown",
   "id": "cb33f254",
   "metadata": {},
   "source": [
    "<div style=\"border-top: 3px solid #2E8B57; border-bottom: 3px solid #2E8B57; padding: 10px 0;\">\n",
    "  <h2 style=\"text-align: center; color: #2E8B57; margin: 0;\">\n",
    "    Fit app project\n",
    "  </h2>\n",
    "</div>\n",
    "\n",
    "<div style=\"text-align: center;\">\n",
    "  <img src=\"https://raw.githubusercontent.com/Alop89/fit_app_data_analysis/main/images_/pexels-victorfreitas-841130.jpg\" alt=\"Persona levantando pesas\" width=\"700\"/>\n",
    "</div>\n",
    "\n",
    "\n"
   ]
  },
  {
   "cell_type": "markdown",
   "id": "33536839",
   "metadata": {},
   "source": [
    "##  Busines task:\n",
    "\n",
    "This project's objective is to analyze data from a single health monitoring device to learn more about how users are utilizing it. The findings will inform marketing plans for the company's expansion and improved customer service. Data and graphs that assist stakeholders in understanding consumer behavior, key trends, two marketing strategies, and two actions each will be included in the final report. "
   ]
  },
  {
   "cell_type": "markdown",
   "id": "5d6bff4b",
   "metadata": {},
   "source": [
    "## Questions\n",
    "\n",
    "These three questions will guide all the processes of the data analysis:\n",
    "1. What are some __trends in smart device usage__?\n",
    "2. How could these __trends apply to customers__?\n",
    "3. How could these __trends help influence marketing strategy__?"
   ]
  },
  {
   "cell_type": "markdown",
   "id": "318b276d",
   "metadata": {},
   "source": [
    "## Deliverables\n",
    "\n",
    " These five deliverables will be generated:\n",
    " \n",
    " 1. A description of all data sources used.\n",
    " 2. Documentation of any cleaning or manipulation of data.\n",
    " 3. A summary of the analysis.\n",
    " 4. Supporting visualizations and key findings.\n",
    " 5. Your top high-level content recommendations based on your analysis. "
   ]
  },
  {
   "cell_type": "markdown",
   "id": "ec716763",
   "metadata": {},
   "source": [
    "## Description of all data sources used\n",
    "\n",
    "The information about the data set used in this project, is available in the following address: https://www.kaggle.com/datasets/arashnic/fitbit\n",
    "\n",
    "Summary of the data:\n",
    "* __Description__: This dataset was produced between December 3, 2016, and December 5, 2016, by participants in a dispersed survey conducted by Amazon Mechanical Turk. The submission of personal tracker data, including minute-level output for physical activity, heart rate, and sleep tracking, was approved by thirty qualified Fitbit users.\n",
    "* __Licence__: CC0: Public Domain\n",
    "* **Last update**: Annually (Updated a year ago)"
   ]
  },
  {
   "cell_type": "markdown",
   "id": "1a6ada68",
   "metadata": {},
   "source": [
    "## Documentation of any cleaning or manipulation of the data\n",
    "\n",
    "Every step of the data analysis process will include documentation of data tampering. "
   ]
  },
  {
   "cell_type": "markdown",
   "id": "22acd31a",
   "metadata": {},
   "source": [
    "## Data analysis process"
   ]
  },
  {
   "cell_type": "markdown",
   "id": "270a3279",
   "metadata": {},
   "source": [
    "### Libraries import"
   ]
  },
  {
   "cell_type": "code",
   "execution_count": 3,
   "id": "60a4242e",
   "metadata": {},
   "outputs": [],
   "source": [
    "# libraries import \n",
    "import pandas as pd \n",
    "import numpy as np\n",
    "import matplotlib.pyplot as plt\n",
    "import seaborn as sns"
   ]
  },
  {
   "cell_type": "markdown",
   "id": "74b43541",
   "metadata": {},
   "source": [
    "### Data loading"
   ]
  },
  {
   "cell_type": "code",
   "execution_count": null,
   "id": "a7ccb60f",
   "metadata": {},
   "outputs": [],
   "source": [
    "# data loading \n",
    "\n",
    "activity = pd.read_csv('https://raw.githubusercontent.com/Alop89/fit_app_data_analysis/refs/heads/main/data_/dailyActivity_merged.csv')\n",
    "sleep = pd.read_csv('https://raw.githubusercontent.com/Alop89/fit_app_data_analysis/refs/heads/main/data_/minuteSleep_merged.csv')\n",
    "weight_loss = pd.read_csv('https://raw.githubusercontent.com/Alop89/fit_app_data_analysis/refs/heads/main/data_/weightLogInfo_merged.csv')"
   ]
  },
  {
   "cell_type": "markdown",
   "id": "dbe22984",
   "metadata": {},
   "source": [
    "**Data description**\n",
    "\n",
    "| data | description |\n",
    "|------|-------------|\n",
    "| activity | contains all the data related to the activity of the customers, including info about steps, distance, activity classification, sedentary time, and calories expense |\n",
    "| sleep | contains all the data related to sleep date and time |\n",
    "| weight_loss | contains all the data related to date and time of the weight measures of customers |"
   ]
  },
  {
   "cell_type": "markdown",
   "id": "bc8d67fb",
   "metadata": {},
   "source": [
    "### Data exploration"
   ]
  },
  {
   "cell_type": "markdown",
   "id": "a4c6ad86",
   "metadata": {},
   "source": [
    "#### Activity "
   ]
  },
  {
   "cell_type": "code",
   "execution_count": 7,
   "id": "356cf3ea",
   "metadata": {},
   "outputs": [
    {
     "data": {
      "application/vnd.microsoft.datawrangler.viewer.v0+json": {
       "columns": [
        {
         "name": "index",
         "rawType": "int64",
         "type": "integer"
        },
        {
         "name": "Id",
         "rawType": "int64",
         "type": "integer"
        },
        {
         "name": "ActivityDate",
         "rawType": "object",
         "type": "string"
        },
        {
         "name": "TotalSteps",
         "rawType": "int64",
         "type": "integer"
        },
        {
         "name": "TotalDistance",
         "rawType": "float64",
         "type": "float"
        },
        {
         "name": "TrackerDistance",
         "rawType": "float64",
         "type": "float"
        },
        {
         "name": "LoggedActivitiesDistance",
         "rawType": "float64",
         "type": "float"
        },
        {
         "name": "VeryActiveDistance",
         "rawType": "float64",
         "type": "float"
        },
        {
         "name": "ModeratelyActiveDistance",
         "rawType": "float64",
         "type": "float"
        },
        {
         "name": "LightActiveDistance",
         "rawType": "float64",
         "type": "float"
        },
        {
         "name": "SedentaryActiveDistance",
         "rawType": "float64",
         "type": "float"
        },
        {
         "name": "VeryActiveMinutes",
         "rawType": "int64",
         "type": "integer"
        },
        {
         "name": "FairlyActiveMinutes",
         "rawType": "int64",
         "type": "integer"
        },
        {
         "name": "LightlyActiveMinutes",
         "rawType": "int64",
         "type": "integer"
        },
        {
         "name": "SedentaryMinutes",
         "rawType": "int64",
         "type": "integer"
        },
        {
         "name": "Calories",
         "rawType": "int64",
         "type": "integer"
        }
       ],
       "ref": "c32433a0-3c66-4f94-91ec-60434dcae1a6",
       "rows": [
        [
         "0",
         "1503960366",
         "3/25/2016",
         "11004",
         "7.1100001335144",
         "7.1100001335144",
         "0.0",
         "2.5699999332428",
         "0.46000000834465",
         "4.07000017166138",
         "0.0",
         "33",
         "12",
         "205",
         "804",
         "1819"
        ],
        [
         "1",
         "1503960366",
         "3/26/2016",
         "17609",
         "11.5500001907349",
         "11.5500001907349",
         "0.0",
         "6.92000007629395",
         "0.730000019073486",
         "3.91000008583069",
         "0.0",
         "89",
         "17",
         "274",
         "588",
         "2154"
        ],
        [
         "2",
         "1503960366",
         "3/27/2016",
         "12736",
         "8.52999973297119",
         "8.52999973297119",
         "0.0",
         "4.65999984741211",
         "0.159999996423721",
         "3.71000003814697",
         "0.0",
         "56",
         "5",
         "268",
         "605",
         "1944"
        ],
        [
         "3",
         "1503960366",
         "3/28/2016",
         "13231",
         "8.93000030517578",
         "8.93000030517578",
         "0.0",
         "3.19000005722046",
         "0.790000021457672",
         "4.94999980926514",
         "0.0",
         "39",
         "20",
         "224",
         "1080",
         "1932"
        ],
        [
         "4",
         "1503960366",
         "3/29/2016",
         "12041",
         "7.84999990463257",
         "7.84999990463257",
         "0.0",
         "2.16000008583069",
         "1.0900000333786",
         "4.6100001335144",
         "0.0",
         "28",
         "28",
         "243",
         "763",
         "1886"
        ]
       ],
       "shape": {
        "columns": 15,
        "rows": 5
       }
      },
      "text/html": [
       "<div>\n",
       "<style scoped>\n",
       "    .dataframe tbody tr th:only-of-type {\n",
       "        vertical-align: middle;\n",
       "    }\n",
       "\n",
       "    .dataframe tbody tr th {\n",
       "        vertical-align: top;\n",
       "    }\n",
       "\n",
       "    .dataframe thead th {\n",
       "        text-align: right;\n",
       "    }\n",
       "</style>\n",
       "<table border=\"1\" class=\"dataframe\">\n",
       "  <thead>\n",
       "    <tr style=\"text-align: right;\">\n",
       "      <th></th>\n",
       "      <th>Id</th>\n",
       "      <th>ActivityDate</th>\n",
       "      <th>TotalSteps</th>\n",
       "      <th>TotalDistance</th>\n",
       "      <th>TrackerDistance</th>\n",
       "      <th>LoggedActivitiesDistance</th>\n",
       "      <th>VeryActiveDistance</th>\n",
       "      <th>ModeratelyActiveDistance</th>\n",
       "      <th>LightActiveDistance</th>\n",
       "      <th>SedentaryActiveDistance</th>\n",
       "      <th>VeryActiveMinutes</th>\n",
       "      <th>FairlyActiveMinutes</th>\n",
       "      <th>LightlyActiveMinutes</th>\n",
       "      <th>SedentaryMinutes</th>\n",
       "      <th>Calories</th>\n",
       "    </tr>\n",
       "  </thead>\n",
       "  <tbody>\n",
       "    <tr>\n",
       "      <th>0</th>\n",
       "      <td>1503960366</td>\n",
       "      <td>3/25/2016</td>\n",
       "      <td>11004</td>\n",
       "      <td>7.11</td>\n",
       "      <td>7.11</td>\n",
       "      <td>0.0</td>\n",
       "      <td>2.57</td>\n",
       "      <td>0.46</td>\n",
       "      <td>4.07</td>\n",
       "      <td>0.0</td>\n",
       "      <td>33</td>\n",
       "      <td>12</td>\n",
       "      <td>205</td>\n",
       "      <td>804</td>\n",
       "      <td>1819</td>\n",
       "    </tr>\n",
       "    <tr>\n",
       "      <th>1</th>\n",
       "      <td>1503960366</td>\n",
       "      <td>3/26/2016</td>\n",
       "      <td>17609</td>\n",
       "      <td>11.55</td>\n",
       "      <td>11.55</td>\n",
       "      <td>0.0</td>\n",
       "      <td>6.92</td>\n",
       "      <td>0.73</td>\n",
       "      <td>3.91</td>\n",
       "      <td>0.0</td>\n",
       "      <td>89</td>\n",
       "      <td>17</td>\n",
       "      <td>274</td>\n",
       "      <td>588</td>\n",
       "      <td>2154</td>\n",
       "    </tr>\n",
       "    <tr>\n",
       "      <th>2</th>\n",
       "      <td>1503960366</td>\n",
       "      <td>3/27/2016</td>\n",
       "      <td>12736</td>\n",
       "      <td>8.53</td>\n",
       "      <td>8.53</td>\n",
       "      <td>0.0</td>\n",
       "      <td>4.66</td>\n",
       "      <td>0.16</td>\n",
       "      <td>3.71</td>\n",
       "      <td>0.0</td>\n",
       "      <td>56</td>\n",
       "      <td>5</td>\n",
       "      <td>268</td>\n",
       "      <td>605</td>\n",
       "      <td>1944</td>\n",
       "    </tr>\n",
       "    <tr>\n",
       "      <th>3</th>\n",
       "      <td>1503960366</td>\n",
       "      <td>3/28/2016</td>\n",
       "      <td>13231</td>\n",
       "      <td>8.93</td>\n",
       "      <td>8.93</td>\n",
       "      <td>0.0</td>\n",
       "      <td>3.19</td>\n",
       "      <td>0.79</td>\n",
       "      <td>4.95</td>\n",
       "      <td>0.0</td>\n",
       "      <td>39</td>\n",
       "      <td>20</td>\n",
       "      <td>224</td>\n",
       "      <td>1080</td>\n",
       "      <td>1932</td>\n",
       "    </tr>\n",
       "    <tr>\n",
       "      <th>4</th>\n",
       "      <td>1503960366</td>\n",
       "      <td>3/29/2016</td>\n",
       "      <td>12041</td>\n",
       "      <td>7.85</td>\n",
       "      <td>7.85</td>\n",
       "      <td>0.0</td>\n",
       "      <td>2.16</td>\n",
       "      <td>1.09</td>\n",
       "      <td>4.61</td>\n",
       "      <td>0.0</td>\n",
       "      <td>28</td>\n",
       "      <td>28</td>\n",
       "      <td>243</td>\n",
       "      <td>763</td>\n",
       "      <td>1886</td>\n",
       "    </tr>\n",
       "  </tbody>\n",
       "</table>\n",
       "</div>"
      ],
      "text/plain": [
       "           Id ActivityDate  TotalSteps  TotalDistance  TrackerDistance  \\\n",
       "0  1503960366    3/25/2016       11004           7.11             7.11   \n",
       "1  1503960366    3/26/2016       17609          11.55            11.55   \n",
       "2  1503960366    3/27/2016       12736           8.53             8.53   \n",
       "3  1503960366    3/28/2016       13231           8.93             8.93   \n",
       "4  1503960366    3/29/2016       12041           7.85             7.85   \n",
       "\n",
       "   LoggedActivitiesDistance  VeryActiveDistance  ModeratelyActiveDistance  \\\n",
       "0                       0.0                2.57                      0.46   \n",
       "1                       0.0                6.92                      0.73   \n",
       "2                       0.0                4.66                      0.16   \n",
       "3                       0.0                3.19                      0.79   \n",
       "4                       0.0                2.16                      1.09   \n",
       "\n",
       "   LightActiveDistance  SedentaryActiveDistance  VeryActiveMinutes  \\\n",
       "0                 4.07                      0.0                 33   \n",
       "1                 3.91                      0.0                 89   \n",
       "2                 3.71                      0.0                 56   \n",
       "3                 4.95                      0.0                 39   \n",
       "4                 4.61                      0.0                 28   \n",
       "\n",
       "   FairlyActiveMinutes  LightlyActiveMinutes  SedentaryMinutes  Calories  \n",
       "0                   12                   205               804      1819  \n",
       "1                   17                   274               588      2154  \n",
       "2                    5                   268               605      1944  \n",
       "3                   20                   224              1080      1932  \n",
       "4                   28                   243               763      1886  "
      ]
     },
     "execution_count": 7,
     "metadata": {},
     "output_type": "execute_result"
    }
   ],
   "source": [
    "# activity \n",
    "\n",
    "activity.head()"
   ]
  },
  {
   "cell_type": "code",
   "execution_count": 8,
   "id": "a6797fce",
   "metadata": {},
   "outputs": [
    {
     "name": "stdout",
     "output_type": "stream",
     "text": [
      "<class 'pandas.core.frame.DataFrame'>\n",
      "RangeIndex: 457 entries, 0 to 456\n",
      "Data columns (total 15 columns):\n",
      " #   Column                    Non-Null Count  Dtype  \n",
      "---  ------                    --------------  -----  \n",
      " 0   Id                        457 non-null    int64  \n",
      " 1   ActivityDate              457 non-null    object \n",
      " 2   TotalSteps                457 non-null    int64  \n",
      " 3   TotalDistance             457 non-null    float64\n",
      " 4   TrackerDistance           457 non-null    float64\n",
      " 5   LoggedActivitiesDistance  457 non-null    float64\n",
      " 6   VeryActiveDistance        457 non-null    float64\n",
      " 7   ModeratelyActiveDistance  457 non-null    float64\n",
      " 8   LightActiveDistance       457 non-null    float64\n",
      " 9   SedentaryActiveDistance   457 non-null    float64\n",
      " 10  VeryActiveMinutes         457 non-null    int64  \n",
      " 11  FairlyActiveMinutes       457 non-null    int64  \n",
      " 12  LightlyActiveMinutes      457 non-null    int64  \n",
      " 13  SedentaryMinutes          457 non-null    int64  \n",
      " 14  Calories                  457 non-null    int64  \n",
      "dtypes: float64(7), int64(7), object(1)\n",
      "memory usage: 53.7+ KB\n"
     ]
    }
   ],
   "source": [
    "activity.info()"
   ]
  },
  {
   "cell_type": "markdown",
   "id": "abeb1bf6",
   "metadata": {},
   "source": [
    "**Notes**:\n",
    "* _Float columns_ with more than 2 decimals will be rounded to only two decimals (TotalDistance, TrackerDistance, VeryActiveDistance, ModeratelyActiveDistance, LightActiveDistance). \n",
    "* _ActivityDate_ will be set as datetime values.\n",
    "* No missing values. "
   ]
  },
  {
   "cell_type": "code",
   "execution_count": 9,
   "id": "559ef435",
   "metadata": {},
   "outputs": [],
   "source": [
    "# float columns round \n",
    "\n",
    "float_cols = ['TotalDistance', 'TrackerDistance', 'VeryActiveDistance', 'ModeratelyActiveDistance', 'LightActiveDistance']\n",
    "activity[float_cols] = activity[float_cols].round(2)"
   ]
  },
  {
   "cell_type": "code",
   "execution_count": 23,
   "id": "1abeb055",
   "metadata": {},
   "outputs": [],
   "source": [
    "# change ActivityDate to date only \n",
    "\n",
    "activity['ActivityDate'] = pd.to_datetime(activity['ActivityDate'])"
   ]
  },
  {
   "cell_type": "code",
   "execution_count": 28,
   "id": "537fa6a8",
   "metadata": {},
   "outputs": [
    {
     "data": {
      "text/plain": [
       "0"
      ]
     },
     "execution_count": 28,
     "metadata": {},
     "output_type": "execute_result"
    }
   ],
   "source": [
    "# search for duplicates in activity data\n",
    "duplicates = activity[activity.duplicated()]\n",
    "duplicates_count = duplicates.shape[0]\n",
    "duplicates_count"
   ]
  },
  {
   "cell_type": "markdown",
   "id": "91135a79",
   "metadata": {},
   "source": [
    "**Notes**:\n",
    "\n",
    "No duplicated rows were found. "
   ]
  },
  {
   "cell_type": "code",
   "execution_count": null,
   "id": "e2381c17",
   "metadata": {},
   "outputs": [],
   "source": []
  }
 ],
 "metadata": {
  "kernelspec": {
   "display_name": "base",
   "language": "python",
   "name": "python3"
  },
  "language_info": {
   "codemirror_mode": {
    "name": "ipython",
    "version": 3
   },
   "file_extension": ".py",
   "mimetype": "text/x-python",
   "name": "python",
   "nbconvert_exporter": "python",
   "pygments_lexer": "ipython3",
   "version": "3.13.5"
  }
 },
 "nbformat": 4,
 "nbformat_minor": 5
}
